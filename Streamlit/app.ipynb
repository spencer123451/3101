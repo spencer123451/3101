{
 "cells": [
  {
   "cell_type": "code",
   "execution_count": null,
   "metadata": {},
   "outputs": [],
   "source": [
    "import streamlit as st"
   ]
  },
  {
   "cell_type": "code",
   "execution_count": null,
   "metadata": {},
   "outputs": [],
   "source": [
    "# Title of the app\n",
    "st.title(\"GraphRag Your Document \")"
   ]
  },
  {
   "cell_type": "code",
   "execution_count": null,
   "metadata": {},
   "outputs": [],
   "source": [
    "# File uploader for document files\n",
    "uploaded_file = st.file_uploader(\"Upload a document (txt, pdf, docx)\", type=[\"txt\", \"pdf\", \"docx\"])"
   ]
  },
  {
   "cell_type": "code",
   "execution_count": null,
   "metadata": {},
   "outputs": [],
   "source": [
    "# Check if a file has been uploaded\n",
    "if uploaded_file is not None:\n",
    "    # Display file name\n",
    "    st.write(\"Uploaded file:\", uploaded_file.name)\n",
    "    \n",
    "    # Read and display the content based on the file type\n",
    "    if uploaded_file.type == \"text/plain\":\n",
    "        # For text files\n",
    "        content = uploaded_file.read().decode(\"utf-8\")\n",
    "        st.text_area(\"File content:\", content, height=300)\n",
    "\n",
    "    elif uploaded_file.type == \"application/pdf\":\n",
    "        # For PDF files\n",
    "        import PyPDF2\n",
    "        pdf_reader = PyPDF2.PdfReader(uploaded_file)\n",
    "        text = \"\"\n",
    "        for page in pdf_reader.pages:\n",
    "            text += page.extract_text()\n",
    "        st.text_area(\"File content:\", text, height=300)\n",
    "\n",
    "    elif uploaded_file.type == \"application/vnd.openxmlformats-officedocument.wordprocessingml.document\":\n",
    "        # For DOCX files\n",
    "        import docx\n",
    "        doc = docx.Document(uploaded_file)\n",
    "        text = \"\\n\".join([paragraph.text for paragraph in doc.paragraphs])\n",
    "        st.text_area(\"File content:\", text, height=300)"
   ]
  },
  {
   "cell_type": "code",
   "execution_count": null,
   "metadata": {},
   "outputs": [],
   "source": [
    "\n",
    "# Add a button to display a message\n",
    "if st.button(\"Click me!\"):\n",
    "    st.success(\"Button clicked!\")\n"
   ]
  },
  {
   "cell_type": "code",
   "execution_count": null,
   "metadata": {},
   "outputs": [],
   "source": [
    "\n",
    "# Add a sidebar for additional options\n",
    "st.sidebar.title(\"Sidebar Options\")\n",
    "st.sidebar.selectbox(\"Choose an option\", [\"Option 1\", \"Option 2\", \"Option 3\"])\n"
   ]
  },
  {
   "cell_type": "code",
   "execution_count": null,
   "metadata": {},
   "outputs": [],
   "source": [
    "\n",
    "# Footer\n",
    "st.write(\"This is a document upload Streamlit app.\")"
   ]
  }
 ],
 "metadata": {
  "language_info": {
   "name": "python"
  }
 },
 "nbformat": 4,
 "nbformat_minor": 2
}
