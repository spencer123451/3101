{
 "cells": [
  {
   "cell_type": "code",
   "execution_count": 142,
   "metadata": {},
   "outputs": [],
   "source": [
    "# Airbnb Data Preparation and Cleaning Workshop\n",
    "import os\n",
    "import pandas as pd\n",
    "import numpy as np\n",
    "import matplotlib.pyplot as plt\n",
    "import seaborn as sns\n",
    "from sklearn.preprocessing import StandardScaler, OneHotEncoder\n",
    "from sklearn.impute import SimpleImputer\n",
    "\n",
    "\n",
    "df = pd.read_csv(\"../newoutput.csv\")"
   ]
  },
  {
   "cell_type": "code",
   "execution_count": 143,
   "metadata": {},
   "outputs": [
    {
     "name": "stdout",
     "output_type": "stream",
     "text": [
      "<class 'pandas.core.frame.DataFrame'>\n",
      "RangeIndex: 88940 entries, 0 to 88939\n",
      "Data columns (total 5 columns):\n",
      " #   Column          Non-Null Count  Dtype \n",
      "---  ------          --------------  ----- \n",
      " 0   lead_text       88484 non-null  object\n",
      " 1   photo_url       88907 non-null  object\n",
      " 2   title           88940 non-null  object\n",
      " 3   url             88940 non-null  object\n",
      " 4   wikipedia_link  88760 non-null  object\n",
      "dtypes: object(5)\n",
      "memory usage: 3.4+ MB\n"
     ]
    },
    {
     "data": {
      "text/html": [
       "<div>\n",
       "<style scoped>\n",
       "    .dataframe tbody tr th:only-of-type {\n",
       "        vertical-align: middle;\n",
       "    }\n",
       "\n",
       "    .dataframe tbody tr th {\n",
       "        vertical-align: top;\n",
       "    }\n",
       "\n",
       "    .dataframe thead th {\n",
       "        text-align: right;\n",
       "    }\n",
       "</style>\n",
       "<table border=\"1\" class=\"dataframe\">\n",
       "  <thead>\n",
       "    <tr style=\"text-align: right;\">\n",
       "      <th></th>\n",
       "      <th>lead_text</th>\n",
       "      <th>photo_url</th>\n",
       "      <th>title</th>\n",
       "      <th>url</th>\n",
       "      <th>wikipedia_link</th>\n",
       "    </tr>\n",
       "  </thead>\n",
       "  <tbody>\n",
       "    <tr>\n",
       "      <th>0</th>\n",
       "      <td>Domitius Marsus (/ˈmɑːrsəs/) was a Latin poet,...</td>\n",
       "      <td>http://dbpedia.org/resource/Template:EB1911_ar...</td>\n",
       "      <td>Domitius Marsus</td>\n",
       "      <td>https://dbpedia.org/page/Domitius_Marsus</td>\n",
       "      <td>http://en.wikipedia.org/wiki/Domitius_Marsus?o...</td>\n",
       "    </tr>\n",
       "    <tr>\n",
       "      <th>1</th>\n",
       "      <td>Aaron ben Menahem Mendel was a Russian rabbi, ...</td>\n",
       "      <td>https://jewishencyclopedia.com/articles/69-aar...</td>\n",
       "      <td>Aaron ben Menahem Mendel</td>\n",
       "      <td>https://dbpedia.org/page/Aaron_ben_Menahem_Mendel</td>\n",
       "      <td>http://en.wikipedia.org/wiki/Aaron_ben_Menahem...</td>\n",
       "    </tr>\n",
       "    <tr>\n",
       "      <th>2</th>\n",
       "      <td>Ida Cook (24 August 1904 – 22 December 1986) w...</td>\n",
       "      <td>http://dbpedia.org/resource/Novelist</td>\n",
       "      <td>Mary Burchell</td>\n",
       "      <td>https://dbpedia.org/page/Mary_Burchell</td>\n",
       "      <td>http://en.wikipedia.org/wiki/Mary_Burchell?old...</td>\n",
       "    </tr>\n",
       "    <tr>\n",
       "      <th>3</th>\n",
       "      <td>The Principality of Lüneburg (later also refer...</td>\n",
       "      <td>http://dbpedia.org/resource/Lüneburg</td>\n",
       "      <td>Principality of Lüneburg</td>\n",
       "      <td>https://dbpedia.org/page/Principality_of_L%C3%...</td>\n",
       "      <td>http://en.wikipedia.org/wiki/Principality_of_L...</td>\n",
       "    </tr>\n",
       "    <tr>\n",
       "      <th>4</th>\n",
       "      <td>Simen Agdestein (born 15 May 1967) is a Norweg...</td>\n",
       "      <td>http://dbpedia.org/resource/Norway</td>\n",
       "      <td>Simen Agdestein</td>\n",
       "      <td>https://dbpedia.org/page/Simen_Agdestein</td>\n",
       "      <td>http://en.wikipedia.org/wiki/Simen_Agdestein?o...</td>\n",
       "    </tr>\n",
       "  </tbody>\n",
       "</table>\n",
       "</div>"
      ],
      "text/plain": [
       "                                           lead_text  \\\n",
       "0  Domitius Marsus (/ˈmɑːrsəs/) was a Latin poet,...   \n",
       "1  Aaron ben Menahem Mendel was a Russian rabbi, ...   \n",
       "2  Ida Cook (24 August 1904 – 22 December 1986) w...   \n",
       "3  The Principality of Lüneburg (later also refer...   \n",
       "4  Simen Agdestein (born 15 May 1967) is a Norweg...   \n",
       "\n",
       "                                           photo_url  \\\n",
       "0  http://dbpedia.org/resource/Template:EB1911_ar...   \n",
       "1  https://jewishencyclopedia.com/articles/69-aar...   \n",
       "2               http://dbpedia.org/resource/Novelist   \n",
       "3               http://dbpedia.org/resource/Lüneburg   \n",
       "4                 http://dbpedia.org/resource/Norway   \n",
       "\n",
       "                      title  \\\n",
       "0           Domitius Marsus   \n",
       "1  Aaron ben Menahem Mendel   \n",
       "2             Mary Burchell   \n",
       "3  Principality of Lüneburg   \n",
       "4           Simen Agdestein   \n",
       "\n",
       "                                                 url  \\\n",
       "0           https://dbpedia.org/page/Domitius_Marsus   \n",
       "1  https://dbpedia.org/page/Aaron_ben_Menahem_Mendel   \n",
       "2             https://dbpedia.org/page/Mary_Burchell   \n",
       "3  https://dbpedia.org/page/Principality_of_L%C3%...   \n",
       "4           https://dbpedia.org/page/Simen_Agdestein   \n",
       "\n",
       "                                      wikipedia_link  \n",
       "0  http://en.wikipedia.org/wiki/Domitius_Marsus?o...  \n",
       "1  http://en.wikipedia.org/wiki/Aaron_ben_Menahem...  \n",
       "2  http://en.wikipedia.org/wiki/Mary_Burchell?old...  \n",
       "3  http://en.wikipedia.org/wiki/Principality_of_L...  \n",
       "4  http://en.wikipedia.org/wiki/Simen_Agdestein?o...  "
      ]
     },
     "execution_count": 143,
     "metadata": {},
     "output_type": "execute_result"
    }
   ],
   "source": [
    "df.info()\n",
    "df.head(5)"
   ]
  },
  {
   "cell_type": "markdown",
   "metadata": {},
   "source": [
    "**Check for null values**"
   ]
  },
  {
   "cell_type": "code",
   "execution_count": 144,
   "metadata": {},
   "outputs": [
    {
     "data": {
      "text/plain": [
       "lead_text         456\n",
       "photo_url          33\n",
       "title               0\n",
       "url                 0\n",
       "wikipedia_link    180\n",
       "dtype: int64"
      ]
     },
     "execution_count": 144,
     "metadata": {},
     "output_type": "execute_result"
    }
   ],
   "source": [
    "df1=df[df.isna().any(axis=1)]\n",
    "# df1.to_csv('out.csv', index=False)\n",
    "df.isnull().sum()"
   ]
  },
  {
   "cell_type": "markdown",
   "metadata": {},
   "source": [
    "**Removed null values**"
   ]
  },
  {
   "cell_type": "code",
   "execution_count": 145,
   "metadata": {},
   "outputs": [
    {
     "name": "stdout",
     "output_type": "stream",
     "text": [
      "<class 'pandas.core.frame.DataFrame'>\n",
      "Index: 88484 entries, 0 to 88939\n",
      "Data columns (total 5 columns):\n",
      " #   Column          Non-Null Count  Dtype \n",
      "---  ------          --------------  ----- \n",
      " 0   lead_text       88484 non-null  object\n",
      " 1   photo_url       88484 non-null  object\n",
      " 2   title           88484 non-null  object\n",
      " 3   url             88484 non-null  object\n",
      " 4   wikipedia_link  88446 non-null  object\n",
      "dtypes: object(5)\n",
      "memory usage: 4.1+ MB\n"
     ]
    },
    {
     "data": {
      "text/plain": [
       "lead_text          0\n",
       "photo_url          0\n",
       "title              0\n",
       "url                0\n",
       "wikipedia_link    38\n",
       "dtype: int64"
      ]
     },
     "execution_count": 145,
     "metadata": {},
     "output_type": "execute_result"
    }
   ],
   "source": [
    "df.dropna(subset=['lead_text'],inplace=True)\n",
    "df.info()\n",
    "df.isnull().sum()"
   ]
  },
  {
   "cell_type": "markdown",
   "metadata": {},
   "source": [
    "## CSV includes symbols and non alphabetical/numbers. Hence need to remove"
   ]
  },
  {
   "cell_type": "code",
   "execution_count": 146,
   "metadata": {},
   "outputs": [],
   "source": [
    "# col_list=list(df.columns)\n",
    "# col_list\n",
    "# df2=df\n",
    "# for i in col_list:\n",
    "#     df2[i] = df2[i].str.lower()\n",
    "# df2.head(10)"
   ]
  },
  {
   "cell_type": "code",
   "execution_count": 147,
   "metadata": {},
   "outputs": [],
   "source": [
    "import re\n",
    "\n",
    "def clean_text(text):\n",
    "    # Remove all symbols and non-alphabetic characters except for accented letters and spaces\n",
    "    cleaned_text = re.sub(r\"[^a-zA-ZÀ-ÿ\\s]\", \"\", text)\n",
    "    \n",
    "    # Remove any standalone numbers or words containing digits (e.g., \"2024\" or \"4u\")\n",
    "    cleaned_text = re.sub(r\"\\b\\w*\\d\\w*\\b\", \"\", cleaned_text)\n",
    "    \n",
    "    # Remove extra spaces\n",
    "    cleaned_text = re.sub(r\"\\s+\", \" \", cleaned_text).strip()\n",
    "    \n",
    "    return cleaned_text\n",
    "\n"
   ]
  },
  {
   "cell_type": "code",
   "execution_count": 149,
   "metadata": {},
   "outputs": [
    {
     "name": "stdout",
     "output_type": "stream",
     "text": [
      "0     Domitius Marsus mrss was a Latin poet friend o...\n",
      "1     Aaron ben Menahem Mendel was a Russian rabbi w...\n",
      "2     Ida Cook  August    December  was a British ca...\n",
      "3     The Principality of Lüneburg later also referr...\n",
      "4     Simen Agdestein born  May  is a Norwegian ches...\n",
      "5     Julia Loktev born December   is a RussianAmeri...\n",
      "6     Pottenstein is a town in the district of Bayre...\n",
      "7     Nicolae Blcescu Romanian pronunciation nikolae...\n",
      "8     Christos Georgiou Doumas Greek    born  is a G...\n",
      "9     Baron Maejima Hisoka   January    April   born...\n",
      "10    Vander Clyde Broadway December    August   sta...\n",
      "11    Lars Vegard  February    December  was a Norwe...\n",
      "Name: lead_text, dtype: object\n"
     ]
    }
   ],
   "source": [
    "import pandas as pd\n",
    "import re\n",
    "\n",
    "def clean_lead_text(text):\n",
    "    # Remove all symbols and non-alphabetic characters except for accented letters and spaces\n",
    "    # result = re.sub(r\"[^a-zA-ZÀ-ÿ\\s]\", \"\", text)\n",
    "    result = re.sub(r'[^ \\w+]', '', text)\n",
    "    return result\n",
    "\n",
    "# Assuming df is your DataFrame\n",
    "df['lead_text'] = df['lead_text'].apply(clean_lead_text)\n",
    "\n",
    "# Example to check results\n",
    "print(df['lead_text'].head(12))"
   ]
  }
 ],
 "metadata": {
  "kernelspec": {
   "display_name": "Python 3",
   "language": "python",
   "name": "python3"
  },
  "language_info": {
   "codemirror_mode": {
    "name": "ipython",
    "version": 3
   },
   "file_extension": ".py",
   "mimetype": "text/x-python",
   "name": "python",
   "nbconvert_exporter": "python",
   "pygments_lexer": "ipython3",
   "version": "3.11.9"
  }
 },
 "nbformat": 4,
 "nbformat_minor": 2
}
