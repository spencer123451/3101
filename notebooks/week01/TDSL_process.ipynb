{
 "cells": [
  {
   "cell_type": "markdown",
   "metadata": {},
   "source": [
    "## Data Dictionary: A Central Repository of Data Information\n",
    "\n",
    "**A data dictionary is essentially a catalog or glossary of information about data.** It provides definitions, descriptions, and other metadata for data elements within a database, dataset, or information system.\n",
    "\n",
    "### What does it contain?\n",
    "\n",
    "A data dictionary typically includes:\n",
    "\n",
    "- **Data element names:** Unique identifiers for each piece of data.\n",
    "- **Definitions:** Clear explanations of what each data element represents.\n",
    "- **Data types:** The format of the data (e.g., text, number, date).\n",
    "- **Data length:** The maximum size of the data.\n",
    "- **Constraints:** Any rules or limitations on the data (e.g., required fields, valid values).\n",
    "- **Relationships:** How data elements connect to other data elements.\n",
    "- **Data sources:** Where the data originates.\n",
    "- **Data usage:** How the data is used.\n",
    "\n",
    "### Why is it important?\n",
    "\n",
    "- **Data consistency:** Ensures everyone uses the same definitions and formats.\n",
    "- **Data quality:** Helps identify and correct errors or inconsistencies.\n",
    "- **Data understanding:** Provides clear explanations for data elements.\n",
    "- **Data governance:** Facilitates data management and control.\n",
    "- **Data integration:** Supports combining data from different sources.\n"
   ]
  },
  {
   "cell_type": "markdown",
   "metadata": {},
   "source": [
    "**Contacts**​​ -​ contains a row for every time that a user makes an inquiry for a stay at a listing in Rio de Janeiro.\n",
    "\n",
    "| Field Name                           | Description                                                                                                                                               | Data Type | Constraints           | Default Value | Field Length | Format        | Example         | Table    | Views | Keys        | Relationships               |\n",
    "| ------------------------------------ | --------------------------------------------------------------------------------------------------------------------------------------------------------- | --------- | --------------------- | ------------- | ------------ | ------------- | --------------- | -------- | ----- | ----------- | --------------------------- |\n",
    "| id_guest_anon                        | ID of the guest making the inquiry.                                                                                                                       | Integer   | Primary Key, Not Null | None          | 10           | Numeric       | 1234567890      | Contacts | None  | Primary Key | Foreign Key to id_user_anon |\n",
    "| id_host_anon                         | ID of the host of the listing to which the inquiry is made.                                                                                               | Integer   | Not Null              | None          | 10           | Numeric       | 987654321       | Contacts | None  | Foreign Key | Foreign Key to id_user_anon |\n",
    "| id_listing_anon                      | ID of the listing to which the inquiry is made.                                                                                                           | Integer   | Not Null              | None          | 10           | Numeric       | 1122334455      | Contacts | None  | Foreign Key | Foreign Key to Listings     |\n",
    "| ts_interaction_first                 | UTC timestamp of the moment the inquiry is made.                                                                                                          | Timestamp | Not Null              | None          | N/A          | UTC Timestamp | 5/16/2023 22:58 | Contacts | None  | None        | None                        |\n",
    "| ts_reply_at_first                    | UTC timestamp of the moment the host replies to the inquiry, if so.                                                                                       | Timestamp | Nullable              | NULL          | N/A          | UTC Timestamp | 5/16/2023 23:10 | Contacts | None  | None        | None                        |\n",
    "| ts_accepted_at_first                 | UTC timestamp of the moment the host accepts the inquiry, if so.                                                                                          | Timestamp | Nullable              | NULL          | N/A          | UTC Timestamp | 5/17/2023 10:15 | Contacts | None  | None        | None                        |\n",
    "| ts_booking_at                        | UTC timestamp of the moment the booking is made, if so.                                                                                                   | Timestamp | Nullable              | NULL          | N/A          | UTC Timestamp | 5/18/2023 15:45 | Contacts | None  | None        | None                        |\n",
    "| ds_checkin_first                     | Date stamp of the check-in date of the inquiry.                                                                                                           | Date      | Not Null              | None          | N/A          | YYYY-MM-DD    | 6/1/2023        | Contacts | None  | None        | None                        |\n",
    "| ds_checkout_first                    | Date stamp of the check-out date of the inquiry.                                                                                                          | Date      | Not Null              | None          | N/A          | YYYY-MM-DD    | 6/7/2023        | Contacts | None  | None        | None                        |\n",
    "| m_guests                             | The number of guests the inquiry is for.                                                                                                                  | Integer   | Not Null              | 1             | 3            | Numeric       | 2               | Contacts | None  | None        | None                        |\n",
    "| m_interactions                       | The total number of messages sent by both the guest and host.                                                                                             | Integer   | Not Null              | 0             | 10           | Numeric       | 5               | Contacts | None  | None        | None                        |\n",
    "| m_first_message_length_in_characters | Number of characters in the first message sent by the guest, if a message was sent.                                                                       | Integer   | Nullable              | NULL          | 500          | Numeric       | 150             | Contacts | None  | None        | None                        |\n",
    "| contact_channel_first                | The contact channel through which the inquiry was made. One of {contact_me, book_it, instant_book}.                                                       | Varchar   | Not Null              | None          | 20           | Categorical   | contact_me      | Contacts | None  | None        | None                        |\n",
    "| guest_user_stage_first               | Indicates whether the user has made a booking before sending the inquiry (\"past booker\"). If the user has not booked before, then the user is a new user. | Varchar   | Not Null              | new_user      | 20           | Categorical   | past_booker     | Contacts | None  | None        | None                        |\n"
   ]
  },
  {
   "cell_type": "markdown",
   "metadata": {},
   "source": [
    "**Listings**​​ -​ contains data for every listing in the market\n",
    "\n",
    "| Field Name           | Description                                                                   | Data Type | Constraints           | Default Value | Field Length | Format      | Example     | Table    | Views | Keys        | Relationships           |\n",
    "| -------------------- | ----------------------------------------------------------------------------- | --------- | --------------------- | ------------- | ------------ | ----------- | ----------- | -------- | ----- | ----------- | ----------------------- |\n",
    "| id_listing_anon      | Anonymized ID of the listing.                                                 | Integer   | Primary Key, Not Null | None          | 10           | Numeric     | 1234567890  | Listings | None  | Primary Key | Foreign Key to Listings |\n",
    "| room_type            | Indicates whether the room is an entire home, private room, or shared room.   | Varchar   | Not Null              | None          | 20           | Categorical | entire_home | Listings | None  | None        | None                    |\n",
    "| listing_neighborhood | The neighborhood of the listing.                                              | Varchar   | Not Null              | None          | 50           | Text        | Downtown    | Listings | None  | None        | None                    |\n",
    "| total_reviews        | The total number of reviews of the listing (at the time the data was pulled). | Integer   | Not Null              | 0             | 5            | Numeric     | 150         | Listings | None  | None        | None                    |\n"
   ]
  },
  {
   "cell_type": "markdown",
   "metadata": {},
   "source": [
    "**Users**​​ -​ contains data for every user\n",
    "\n",
    "| Field Name            | Description                                                                                          | Data Type | Constraints           | Default Value | Field Length | Format  | Example    | Table | Views | Keys        | Relationships        |\n",
    "| --------------------- | ---------------------------------------------------------------------------------------------------- | --------- | --------------------- | ------------- | ------------ | ------- | ---------- | ----- | ----- | ----------- | -------------------- |\n",
    "| id_user_anon          | Anonymized ID of the user.                                                                           | Integer   | Primary Key, Not Null | None          | 10           | Numeric | 9876543210 | Users | None  | Primary Key | Foreign Key to Users |\n",
    "| words_in_user_profile | The number of words in the “about me” section of the user’s Airbnb profile (at the time of contact). | Integer   | Not Null              | 0             | 1000         | Numeric | 250        | Users | None  | None        | None                 |\n",
    "| country               | Origin country of the user.                                                                          | Varchar   | Not Null              | None          | 50           | Text    | USA        | Users | None  | None        | None                 |\n"
   ]
  }
 ],
 "metadata": {
  "kernelspec": {
   "display_name": "Python 3",
   "language": "python",
   "name": "python3"
  },
  "language_info": {
   "codemirror_mode": {
    "name": "ipython",
    "version": 3
   },
   "file_extension": ".py",
   "mimetype": "text/x-python",
   "name": "python",
   "nbconvert_exporter": "python",
   "pygments_lexer": "ipython3",
   "version": "3.10.0"
  }
 },
 "nbformat": 4,
 "nbformat_minor": 2
}
